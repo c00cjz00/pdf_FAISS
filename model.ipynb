{
 "cells": [
  {
   "cell_type": "code",
   "execution_count": null,
   "id": "01407f26-f3ed-44df-b0fa-98d2f2a0d56a",
   "metadata": {},
   "outputs": [],
   "source": [
    "# Advanced RAG Implementation on Custom Data Using Hybrid Search, Embed Caching And Mistral-AI\n",
    "# https://medium.aiplanet.com/advanced-rag-implementation-on-custom-data-using-hybrid-search-embed-caching-and-mistral-ai-ce78fdae4ef6"
   ]
  },
  {
   "cell_type": "code",
   "execution_count": null,
   "id": "566b0caf-fbc8-4646-9e00-06b713503f7f",
   "metadata": {
    "tags": []
   },
   "outputs": [],
   "source": [
    "# RUN: chainlit run model.py\n",
    "\n",
    "# 01: CONFIGURE\n",
    "MODEL_ID = \"/work/u00cjz00/slurm_jobs/github/models/Llama-2-7B-Chat-GPTQ\"\n",
    "DB_FAISS_PATH = 'vectorstore/db_faiss'\n",
    "\n",
    "# 02: Load LIBRARY\n",
    "from langchain.document_loaders import PyPDFLoader, DirectoryLoader\n",
    "from langchain import PromptTemplate\n",
    "from langchain.embeddings import HuggingFaceEmbeddings\n",
    "from langchain.vectorstores import FAISS\n",
    "from langchain.llms import CTransformers\n",
    "from langchain.chains import RetrievalQA\n",
    "import chainlit as cl\n",
    "import transformers\n",
    "import torch\n",
    "from langchain.llms import HuggingFacePipeline\n",
    "#from transformers import AutoTokenizer\n",
    "from transformers import AutoTokenizer, AutoModelForCausalLM, pipeline\n",
    "\n",
    "#warnings.filterwarnings('ignore')\n",
    "\n",
    "# 03: custom_prompt_template\n",
    "custom_prompt_template = \"\"\"Use the following pieces of information to answer the user's question.\n",
    "If you don't know the answer, just say that you don't know, don't try to make up an answer.\n",
    "\n",
    "Context: {context}\n",
    "Question: {question}\n",
    "\n",
    "Only return the helpful answer below and nothing else.\n",
    "Helpful answer:\n",
    "\"\"\"\n",
    "# 03 tmp: custom_prompt_template\n",
    "\n",
    "custom_prompt_template_temp = '''\n",
    "You are my financial advisor. You are great at providing tips on investments, savings and on financial markets with your knowledge in finances.\n",
    "With the information being provided try to answer the question. \n",
    "If you cant answer the question based on the information either say you cant find an answer or unable to find an answer.\n",
    "So try to understand in depth about the context and answer only based on the information provided. Dont generate irrelevant answers\n",
    "\n",
    "Context: {context}\n",
    "Question: {question}\n",
    "Do provide only helpful answers\n",
    "\n",
    "Helpful answer:\n",
    "'''\n",
    "\n",
    "\n",
    "def set_custom_prompt():\n",
    "    \"\"\"\n",
    "    Prompt template for QA retrieval for each vectorstore\n",
    "    \"\"\"\n",
    "    prompt = PromptTemplate(template=custom_prompt_template,\n",
    "                            input_variables=['context', 'question'])\n",
    "    return prompt\n",
    "\n",
    "# 04: Retrieval QA Chain\n",
    "def retrieval_qa_chain(llm, prompt, db):\n",
    "    qa_chain = RetrievalQA.from_chain_type(llm=llm,\n",
    "                                       chain_type='stuff',\n",
    "                                       retriever=db.as_retriever(search_kwargs={'k': 5}),\n",
    "                                       return_source_documents=True,\n",
    "                                       chain_type_kwargs={'prompt': prompt}\n",
    "                                       )\n",
    "    return qa_chain\n",
    "\n",
    "# 05: QA Model Function\n",
    "def load_llm():\n",
    "    model = AutoModelForCausalLM.from_pretrained(MODEL_ID, device_map=\"auto\")\n",
    "    tokenizer = AutoTokenizer.from_pretrained(MODEL_ID)\n",
    "    pipeline = transformers.pipeline(\n",
    "        \"text-generation\",\n",
    "        model=model,\n",
    "        tokenizer=tokenizer,\n",
    "        max_new_tokens=2048,\n",
    "        do_sample=True,\n",
    "        temperature=0.7,\n",
    "        top_p=0.95,\n",
    "        top_k=40,\n",
    "        repetition_penalty=1.1\n",
    "    )\n",
    "    llm=HuggingFacePipeline(pipeline=pipeline, model_kwargs={'temperature':0})\n",
    "    \n",
    "    return llm\n",
    "\n",
    "def qa_bot():\n",
    "    embeddings = HuggingFaceEmbeddings(model_name=\"sentence-transformers/all-MiniLM-L6-v2\")\n",
    "    db = FAISS.load_local(DB_FAISS_PATH, embeddings)\n",
    "    llm = load_llm()\n",
    "    qa_prompt = set_custom_prompt()\n",
    "    qa = retrieval_qa_chain(llm, qa_prompt, db)\n",
    "\n",
    "    return qa\n",
    "\n",
    "# 06: output function\n",
    "def simple_result(qa_bot_cahin,query):\n",
    "    res = qa_bot_cahin({'query': query})\n",
    "    \n",
    "    return res\n",
    "\n",
    "# 07: output function\n",
    "def final_result(qa_bot_cahin,query):\n",
    "    res = qa_bot_cahin({'query': query})\n",
    "    answer = res[\"result\"]\n",
    "    sources = res[\"source_documents\"]\n",
    "    if sources:\n",
    "        answer += f\"\\n\\n\\n資料來源, Sources:\" + str(sources)\n",
    "    else:\n",
    "        answer += \"\\n\\n\\nNo sources found\"\n",
    "\n",
    "    return answer"
   ]
  },
  {
   "cell_type": "code",
   "execution_count": null,
   "id": "d88955df-11f9-469b-83df-c3e39cdacd81",
   "metadata": {
    "tags": []
   },
   "outputs": [],
   "source": [
    "# load model\n",
    "qa_bot_cahin = qa_bot()"
   ]
  },
  {
   "cell_type": "code",
   "execution_count": null,
   "id": "04c8bcdc-2351-42ab-b2b3-d93f8924ec61",
   "metadata": {
    "tags": []
   },
   "outputs": [],
   "source": [
    "# 06 從向量庫中檢索與查詢相似的段落\n",
    "query = \"What is Acupuncture?\"\n",
    "response=simple_result(qa_bot_cahin,query)\n",
    "print(f\"Response generated : \\n {response['result']}\")\n",
    "print(f\"Source Documents : \\n {response['source_documents']}\")"
   ]
  },
  {
   "cell_type": "code",
   "execution_count": null,
   "id": "8dcbaa71-bf85-42f3-831d-89e48bb96011",
   "metadata": {
    "tags": []
   },
   "outputs": [],
   "source": [
    "# 07 從向量庫中檢索與查詢相似的段落\n",
    "query = \"What is Acupuncture?\"\n",
    "answer=final_result(qa_bot_cahin,query)\n",
    "print(answer)"
   ]
  },
  {
   "cell_type": "code",
   "execution_count": null,
   "id": "b162f786-2401-4c6e-add2-3a6b5d601b0e",
   "metadata": {},
   "outputs": [],
   "source": []
  }
 ],
 "metadata": {
  "kernelspec": {
   "display_name": "Image_pytorch_2.1.0-cuda11.8-cudnn8-devel",
   "language": "python",
   "name": "pytorch_2.1.0-cuda11.8-cudnn8-devel"
  },
  "language_info": {
   "codemirror_mode": {
    "name": "ipython",
    "version": 3
   },
   "file_extension": ".py",
   "mimetype": "text/x-python",
   "name": "python",
   "nbconvert_exporter": "python",
   "pygments_lexer": "ipython3",
   "version": "3.10.13"
  }
 },
 "nbformat": 4,
 "nbformat_minor": 5
}
