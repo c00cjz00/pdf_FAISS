{
 "cells": [
  {
   "cell_type": "code",
   "execution_count": null,
   "id": "01407f26-f3ed-44df-b0fa-98d2f2a0d56a",
   "metadata": {},
   "outputs": [],
   "source": [
    "# Advanced RAG Implementation on Custom Data Using Hybrid Search, Embed Caching And Mistral-AI\n",
    "https://medium.aiplanet.com/advanced-rag-implementation-on-custom-data-using-hybrid-search-embed-caching-and-mistral-ai-ce78fdae4ef6"
   ]
  },
  {
   "cell_type": "code",
   "execution_count": null,
   "id": "566b0caf-fbc8-4646-9e00-06b713503f7f",
   "metadata": {
    "tags": []
   },
   "outputs": [],
   "source": [
    "# RUN: python3 ingest.py\n",
    "\n",
    "from langchain.embeddings import HuggingFaceEmbeddings\n",
    "from langchain.vectorstores import FAISS\n",
    "from langchain.document_loaders import PyPDFLoader, DirectoryLoader\n",
    "from langchain.text_splitter import RecursiveCharacterTextSplitter \n",
    "\n",
    "DATA_PATH = 'data/'\n",
    "DB_FAISS_PATH = 'vectorstore/db_faiss'\n",
    "\n",
    "# Create vector database\n",
    "def create_vector_db():\n",
    "    loader = DirectoryLoader(DATA_PATH,\n",
    "                             glob='*.pdf',\n",
    "                             loader_cls=PyPDFLoader)\n",
    "\n",
    "    documents = loader.load()\n",
    "    text_splitter = RecursiveCharacterTextSplitter(chunk_size=500,\n",
    "                                                   chunk_overlap=50)\n",
    "    texts = text_splitter.split_documents(documents)\n",
    "\n",
    "    embeddings = HuggingFaceEmbeddings(model_name='sentence-transformers/all-MiniLM-L6-v2',\n",
    "                                       model_kwargs={'device': 'cpu'})\n",
    "\n",
    "    db = FAISS.from_documents(texts, embeddings)\n",
    "    db.save_local(DB_FAISS_PATH)\n",
    "\n",
    "create_vector_db()"
   ]
  },
  {
   "cell_type": "code",
   "execution_count": null,
   "id": "9c76553d-c945-4758-8a31-1d5551841358",
   "metadata": {},
   "outputs": [],
   "source": []
  }
 ],
 "metadata": {
  "kernelspec": {
   "display_name": "Image_pytorch_2.1.0-cuda11.8-cudnn8-devel",
   "language": "python",
   "name": "pytorch_2.1.0-cuda11.8-cudnn8-devel"
  },
  "language_info": {
   "codemirror_mode": {
    "name": "ipython",
    "version": 3
   },
   "file_extension": ".py",
   "mimetype": "text/x-python",
   "name": "python",
   "nbconvert_exporter": "python",
   "pygments_lexer": "ipython3",
   "version": "3.10.13"
  }
 },
 "nbformat": 4,
 "nbformat_minor": 5
}
