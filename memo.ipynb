{
 "cells": [
  {
   "cell_type": "code",
   "execution_count": null,
   "id": "01407f26-f3ed-44df-b0fa-98d2f2a0d56a",
   "metadata": {},
   "outputs": [],
   "source": [
    "# Advanced RAG Implementation on Custom Data Using Hybrid Search, Embed Caching And Mistral-AI\n",
    "https://medium.aiplanet.com/advanced-rag-implementation-on-custom-data-using-hybrid-search-embed-caching-and-mistral-ai-ce78fdae4ef6"
   ]
  },
  {
   "cell_type": "code",
   "execution_count": 1,
   "id": "566b0caf-fbc8-4646-9e00-06b713503f7f",
   "metadata": {
    "tags": []
   },
   "outputs": [],
   "source": [
    "# RUN: python3 ingest.py\n",
    "\n",
    "from langchain.embeddings import HuggingFaceEmbeddings\n",
    "from langchain.vectorstores import FAISS\n",
    "from langchain.document_loaders import PyPDFLoader, DirectoryLoader\n",
    "from langchain.text_splitter import RecursiveCharacterTextSplitter \n",
    "\n",
    "DATA_PATH = 'data/'\n",
    "DB_FAISS_PATH = 'vectorstore/db_faiss'\n",
    "\n",
    "# Create vector database\n",
    "def create_vector_db():\n",
    "    loader = DirectoryLoader(DATA_PATH,\n",
    "                             glob='*.pdf',\n",
    "                             loader_cls=PyPDFLoader)\n",
    "\n",
    "    documents = loader.load()\n",
    "    text_splitter = RecursiveCharacterTextSplitter(chunk_size=500,\n",
    "                                                   chunk_overlap=50)\n",
    "    texts = text_splitter.split_documents(documents)\n",
    "\n",
    "    embeddings = HuggingFaceEmbeddings(model_name='sentence-transformers/all-MiniLM-L6-v2',\n",
    "                                       model_kwargs={'device': 'cpu'})\n",
    "\n",
    "    db = FAISS.from_documents(texts, embeddings)\n",
    "    db.save_local(DB_FAISS_PATH)\n",
    "\n",
    "create_vector_db()"
   ]
  },
  {
   "cell_type": "code",
   "execution_count": null,
   "id": "9c76553d-c945-4758-8a31-1d5551841358",
   "metadata": {},
   "outputs": [],
   "source": []
  },
  {
   "cell_type": "code",
   "execution_count": null,
   "id": "bbf62397-2d99-429d-894f-8f679cad3dc7",
   "metadata": {},
   "outputs": [],
   "source": []
  },
  {
   "cell_type": "code",
   "execution_count": null,
   "id": "e7bc73b1-372c-4b3b-867f-f3fbd04d179f",
   "metadata": {},
   "outputs": [],
   "source": []
  },
  {
   "cell_type": "code",
   "execution_count": null,
   "id": "d01a8784-61ce-4691-924a-ce121fd104ba",
   "metadata": {},
   "outputs": [],
   "source": []
  },
  {
   "cell_type": "raw",
   "id": "00d17eed-3604-4c7b-982b-4916e9d11656",
   "metadata": {
    "tags": []
   },
   "source": [
    "from langchain.storage import LocalFileStore\n",
    "from langchain.storage import InMemoryStore\n",
    "store = LocalFileStore(\"./cache/\")\n",
    "store = InMemoryStore()"
   ]
  },
  {
   "cell_type": "markdown",
   "id": "8d94ce72-9521-4dd0-975a-f8d33174f66f",
   "metadata": {},
   "source": [
    "## 實作堆疊：\n",
    "- 嵌入器： BAAI通用嵌入\n",
    "- 檢索： FAISS Vectorstore\n",
    "- 生成： Mistral-7B-Instruct GPTQ 模型\n",
    "- 基礎架構： Google Colab、A100 GPU\n",
    "- 數據：財務文件"
   ]
  },
  {
   "cell_type": "code",
   "execution_count": null,
   "id": "adeede7c-b6be-4798-870c-478feb9d282f",
   "metadata": {
    "tags": []
   },
   "outputs": [],
   "source": [
    "# 安裝所需的軟體包\n",
    "!pip install -q langchain Faiss-gpu tiktoken sentence-transformers\n",
    "!pip install -q trl Py7zr auto-gptq optimum\n",
    "!pip install -q rank_bm25\n",
    "!pip install -q PyPdf"
   ]
  },
  {
   "cell_type": "code",
   "execution_count": 1,
   "id": "87981a11-1b4f-4041-8481-7770e904d650",
   "metadata": {
    "tags": []
   },
   "outputs": [],
   "source": [
    "# 導入必要的套件\n",
    "import langchain\n",
    "from langchain.embeddings import CacheBackedEmbeddings,HuggingFaceEmbeddings\n",
    "from langchain.vectorstores import FAISS\n",
    "from langchain.storage import LocalFileStore\n",
    "from langchain.retrievers import BM25Retriever,EnsembleRetriever\n",
    "from langchain.document_loaders import PyPDFLoader,DirectoryLoader\n",
    "from langchain.llms import HuggingFacePipeline\n",
    "from langchain.cache import InMemoryCache\n",
    "from langchain.text_splitter import RecursiveCharacterTextSplitter\n",
    "from langchain.schema import prompt\n",
    "from langchain.chains import RetrievalQA\n",
    "from langchain.callbacks import StdOutCallbackHandler\n",
    "from langchain import PromptTemplate\n",
    "from transformers import AutoModelForCausalLM, AutoTokenizer, pipeline"
   ]
  },
  {
   "cell_type": "code",
   "execution_count": null,
   "id": "44b7b622-68a8-4f68-9cdb-79142e0709ee",
   "metadata": {
    "tags": []
   },
   "outputs": [],
   "source": [
    "# 使用 RecursiveCharacterTextSplitter 建立 Managebale 文字片段以建立評論區塊\n",
    "dir_loader = DirectoryLoader(\"/home/g00cjz00/github/pdf_chatbot_llama2_vectorstore_chainlit/data\",\n",
    "                             glob=\"*.pdf\",\n",
    "                             loader_cls=PyPDFLoader)\n",
    "docs = dir_loader.load()\n",
    "#\n",
    "print(f\"len of documents in :{len(docs)}\")"
   ]
  },
  {
   "cell_type": "code",
   "execution_count": null,
   "id": "010e6501-6995-4e83-b053-d938a7b01e04",
   "metadata": {
    "tags": []
   },
   "outputs": [],
   "source": [
    "#使用 RecursiveCharacterTextSplitter 建立 Managebale 文字片段以建立評論區塊\n",
    "text_splitter = RecursiveCharacterTextSplitter(chunk_size=500,\n",
    "                                      chunk_overlap=200,)\n",
    "#\n",
    "esops_documents = text_splitter.transform_documents(docs)\n",
    "print(f\"number of chunks in barbie documents : {len(esops_documents)}\")"
   ]
  },
  {
   "cell_type": "markdown",
   "id": "4d3e6400-9ca5-449b-a906-8753111c2fce",
   "metadata": {},
   "source": [
    "### 建立向量存儲\n",
    "- 在這裡，我們將利用CacheBackedEmbeddings來防止我們一遍又一遍地重新嵌入類似的查詢。\n",
    "- 結構化文件將轉換為有用的格式，以便在法學碩士申請中查詢、檢索和使用\n",
    "- 這裡我們將使用 FAISS（Facebook AI 相似性搜尋）作為向量儲存"
   ]
  },
  {
   "cell_type": "code",
   "execution_count": null,
   "id": "009c4418-f96b-4b5f-9c0a-5e0c1b30c1b6",
   "metadata": {
    "tags": []
   },
   "outputs": [],
   "source": [
    "store = LocalFileStore(\"./cache/\")\n",
    "#embed_model_id = 'BAAI/bge-small-en-v1.5'\n",
    "embed_model_id = 'sentence-transformers/all-MiniLM-L6-v2'\n",
    "core_embeddings_model = HuggingFaceEmbeddings(model_name=embed_model_id)\n",
    "embedder = CacheBackedEmbeddings.from_bytes_store(core_embeddings_model,\n",
    "                                                  store,\n",
    "                                                  namespace=embed_model_id)\n",
    "# Create VectorStore\n",
    "vectorstore = FAISS.from_documents(esops_documents,embedder)\n",
    "\n",
    "DB_FAISS_PATH = 'vectorstore/db_faiss'\n",
    "vectorstore.save_local(DB_FAISS_PATH)"
   ]
  },
  {
   "cell_type": "code",
   "execution_count": 4,
   "id": "3af74a9d-d74a-4bcb-bacc-20d5c12356f3",
   "metadata": {
    "tags": []
   },
   "outputs": [],
   "source": [
    "embeddings = HuggingFaceEmbeddings(model_name=\"sentence-transformers/all-MiniLM-L6-v2\")\n",
    "core_embeddings_model = embeddings\n",
    "\n",
    "DB_FAISS_PATH = 'vectorstore/db_faiss'\n",
    "vectorstore = FAISS.load_local(DB_FAISS_PATH, embeddings)"
   ]
  },
  {
   "cell_type": "code",
   "execution_count": null,
   "id": "95f098d7-0cb6-4a33-8b64-fa48909032c9",
   "metadata": {
    "tags": []
   },
   "outputs": [],
   "source": [
    "# 從向量庫中檢索與查詢相似的段落\n",
    "query = \"What is Acupuncture?\"\n",
    "embedding_vector = core_embeddings_model.embed_query(query)\n",
    "print(len(embedding_vector))\n",
    "#\n",
    "docs_resp = vectorstore.similarity_search_by_vector(embedding_vector,k=5)\n",
    "#\n",
    "for page in docs_resp:\n",
    "  print(page.page_content)\n",
    "  print(\"------------\\n\")\n"
   ]
  },
  {
   "cell_type": "markdown",
   "id": "89ef2efc-d26b-485d-a6c4-0321ec18687f",
   "metadata": {},
   "source": [
    "### 檢查 CacheBackedEmbeddings 模式為我們節省了多少時間"
   ]
  },
  {
   "cell_type": "code",
   "execution_count": null,
   "id": "8b902335-29d2-4990-b702-50574185dbd5",
   "metadata": {
    "tags": []
   },
   "outputs": [],
   "source": [
    "%%timeit -n 1 -r 1\n",
    "query = \"What is Acupuncture?\"\n",
    "#\n",
    "embedding_vector = core_embeddings_model.embed_query(query)\n",
    "docs_resp = vectorstore.similarity_search_by_vector(embedding_vector,k=5)"
   ]
  },
  {
   "cell_type": "code",
   "execution_count": 11,
   "id": "88f4eed6-4116-44e8-afed-0960cf2e8b31",
   "metadata": {
    "tags": []
   },
   "outputs": [
    {
     "ename": "NameError",
     "evalue": "name 'esops_documents' is not defined",
     "output_type": "error",
     "traceback": [
      "\u001b[0;31m---------------------------------------------------------------------------\u001b[0m",
      "\u001b[0;31mNameError\u001b[0m                                 Traceback (most recent call last)",
      "Cell \u001b[0;32mIn[11], line 2\u001b[0m\n\u001b[1;32m      1\u001b[0m \u001b[38;5;66;03m# 建立稀疏嵌入\u001b[39;00m\n\u001b[0;32m----> 2\u001b[0m bm25_retriever \u001b[38;5;241m=\u001b[39m BM25Retriever\u001b[38;5;241m.\u001b[39mfrom_documents(\u001b[43mesops_documents\u001b[49m)\n\u001b[1;32m      3\u001b[0m bm25_retriever\u001b[38;5;241m.\u001b[39mk\u001b[38;5;241m=\u001b[39m\u001b[38;5;241m5\u001b[39m\n",
      "\u001b[0;31mNameError\u001b[0m: name 'esops_documents' is not defined"
     ]
    }
   ],
   "source": [
    "# 建立稀疏嵌入\n",
    "bm25_retriever = BM25Retriever.from_documents(esops_documents)\n",
    "bm25_retriever.k=5"
   ]
  },
  {
   "cell_type": "code",
   "execution_count": 9,
   "id": "b0d11f6e-5acf-4d92-9fe5-358c3a84a88d",
   "metadata": {
    "tags": []
   },
   "outputs": [
    {
     "ename": "NameError",
     "evalue": "name 'bm25_retriever' is not defined",
     "output_type": "error",
     "traceback": [
      "\u001b[0;31m---------------------------------------------------------------------------\u001b[0m",
      "\u001b[0;31mNameError\u001b[0m                                 Traceback (most recent call last)",
      "Cell \u001b[0;32mIn[9], line 3\u001b[0m\n\u001b[1;32m      1\u001b[0m \u001b[38;5;66;03m# 設定整合檢索器（混合搜尋）\u001b[39;00m\n\u001b[1;32m      2\u001b[0m faiss_retriever \u001b[38;5;241m=\u001b[39m vectorstore\u001b[38;5;241m.\u001b[39mas_retriever(search_kwargs\u001b[38;5;241m=\u001b[39m{\u001b[38;5;124m\"\u001b[39m\u001b[38;5;124mk\u001b[39m\u001b[38;5;124m\"\u001b[39m:\u001b[38;5;241m5\u001b[39m})\n\u001b[0;32m----> 3\u001b[0m ensemble_retriever \u001b[38;5;241m=\u001b[39m EnsembleRetriever(retrievers\u001b[38;5;241m=\u001b[39m[\u001b[43mbm25_retriever\u001b[49m,faiss_retriever],\n\u001b[1;32m      4\u001b[0m                                        weights\u001b[38;5;241m=\u001b[39m[\u001b[38;5;241m0.5\u001b[39m,\u001b[38;5;241m0.5\u001b[39m])\n",
      "\u001b[0;31mNameError\u001b[0m: name 'bm25_retriever' is not defined"
     ]
    }
   ],
   "source": [
    "# 設定整合檢索器（混合搜尋）\n",
    "faiss_retriever = vectorstore.as_retriever(search_kwargs={\"k\":5})\n",
    "ensemble_retriever = EnsembleRetriever(retrievers=[bm25_retriever,faiss_retriever],\n",
    "                                       weights=[0.5,0.5])"
   ]
  },
  {
   "cell_type": "code",
   "execution_count": null,
   "id": "c930c2ab-b0c9-4692-80a3-373cfa2a3529",
   "metadata": {
    "tags": []
   },
   "outputs": [],
   "source": [
    "# 下載量化的 GPTQ 模型\n",
    "\n",
    "from transformers import AutoModelForCausalLM, AutoTokenizer, pipeline\n",
    "\n",
    "model_name_or_path = \"TheBloke/Mistral-7B-Instruct-v0.1-GPTQ\"\n",
    "# To use a different branch, change revision\n",
    "# For example: revision=\"gptq-4bit-32g-actorder_True\"\n",
    "model = AutoModelForCausalLM.from_pretrained(model_name_or_path,\n",
    "                                             device_map=\"auto\",\n",
    "                                             trust_remote_code=False,\n",
    "                                             revision=\"gptq-8bit-32g-actorder_True\")\n",
    "#\n",
    "tokenizer = AutoTokenizer.from_pretrained(model_name_or_path, use_fast=True)"
   ]
  },
  {
   "cell_type": "code",
   "execution_count": null,
   "id": "21867b3d-b4f0-4e39-ba19-0a481204cd2a",
   "metadata": {
    "tags": []
   },
   "outputs": [],
   "source": [
    "# 創建管道\n",
    "pipe = pipeline(\n",
    "    \"text-generation\",\n",
    "    model=model,\n",
    "    tokenizer=tokenizer,\n",
    "    max_new_tokens=512,\n",
    "    do_sample=True,\n",
    "    temperature=0.1,\n",
    "    top_p=0.95,\n",
    "    top_k=40,\n",
    "    repetition_penalty=1.1\n",
    ")"
   ]
  },
  {
   "cell_type": "code",
   "execution_count": null,
   "id": "b1ae7bf0-1e16-4f47-a4b9-9e5a120bc0db",
   "metadata": {
    "tags": []
   },
   "outputs": [],
   "source": [
    "# 使用量化 GPTQ 模型初始化 LLM\n",
    "from langchain.llms import HuggingFacePipeline\n",
    "llm = HuggingFacePipeline(pipeline=pipe)"
   ]
  },
  {
   "cell_type": "code",
   "execution_count": null,
   "id": "af1ef4ab-d366-422c-b5d5-85d613af9209",
   "metadata": {
    "tags": []
   },
   "outputs": [],
   "source": [
    "# 設定快取\n",
    "langchain.llm_cache = InMemoryCache()"
   ]
  },
  {
   "cell_type": "code",
   "execution_count": null,
   "id": "49899840-3903-4f66-a3d7-47dec91c5afc",
   "metadata": {
    "tags": []
   },
   "outputs": [],
   "source": [
    "# 制定提示模板\n",
    "\n",
    "PROMPT_TEMPLATE = '''\n",
    "You are my financial advisor. You are great at providing tips on investments, savings and on financial markets with your knowledge in finances.\n",
    "With the information being provided try to answer the question. \n",
    "If you cant answer the question based on the information either say you cant find an answer or unable to find an answer.\n",
    "So try to understand in depth about the context and answer only based on the information provided. Dont generate irrelevant answers\n",
    "\n",
    "Context: {context}\n",
    "Question: {question}\n",
    "Do provide only helpful answers\n",
    "\n",
    "Helpful answer:\n",
    "'''\n",
    "#\n",
    "input_variables = ['context', 'question']\n",
    "#\n",
    "custom_prompt = PromptTemplate(template=PROMPT_TEMPLATE,\n",
    "                            input_variables=input_variables)"
   ]
  },
  {
   "cell_type": "markdown",
   "id": "d959c7f2-86c2-43ad-a107-cb3664976b32",
   "metadata": {},
   "source": [
    "## 設定檢索鏈——無混合搜索"
   ]
  },
  {
   "cell_type": "code",
   "execution_count": null,
   "id": "72bb19d7-854a-413a-afbc-c7a91e8b9df1",
   "metadata": {
    "tags": []
   },
   "outputs": [],
   "source": [
    "handler = StdOutCallbackHandler()\n",
    "#\n",
    "qa_with_sources_chain = RetrievalQA.from_chain_type(\n",
    "    llm=llm,\n",
    "    chain_type=\"stuff\",\n",
    "    retriever = vectorstore.as_retriever(search_kwargs={\"k\":5}),\n",
    "    verbose=True,\n",
    "    callbacks=[handler],\n",
    "    chain_type_kwargs={\"prompt\": custom_prompt},\n",
    "    return_source_documents=True\n",
    ")"
   ]
  },
  {
   "cell_type": "markdown",
   "id": "3b4c8f62-c8e3-4b86-826b-f75a08d6bb03",
   "metadata": {},
   "source": [
    "### 處理用戶查詢1\n",
    "CPU 時間：使用者 19.3 秒，系統：690 毫秒，總計：20 秒\n",
    "掛起時間：20 秒"
   ]
  },
  {
   "cell_type": "code",
   "execution_count": null,
   "id": "24a8636f-f0ff-4ca0-995e-b5c914406405",
   "metadata": {
    "tags": []
   },
   "outputs": [],
   "source": [
    "%%time\n",
    "query = \"What is Acupuncture?\"\n",
    "response = qa_with_sources_chain({\"query\":query})\n",
    "print(f\"Response generated : \\n {response['result']}\")\n",
    "print(f\"Source Documents : \\n {response['source_documents']}\")"
   ]
  },
  {
   "cell_type": "markdown",
   "id": "efef962a-51c7-44c7-a25d-458de1365612",
   "metadata": {},
   "source": [
    "### 處理用戶查詢2\n",
    "CPU 時間：使用者 19.3 秒，系統：690 毫秒，總計：20 秒\n",
    "掛起時間：20 秒"
   ]
  },
  {
   "cell_type": "code",
   "execution_count": null,
   "id": "1ffed3d1-b3ba-4775-9d70-b2b0a04ccaed",
   "metadata": {
    "tags": []
   },
   "outputs": [],
   "source": [
    "%%time\n",
    "query = \"What is Acupuncture?\"\n",
    "response = qa_with_sources_chain({\"query\":query})\n",
    "print(f\"Response generated : \\n {response['result']}\")\n",
    "print(f\"Source Documents : \\n {response['source_documents']}\")\n",
    "\n"
   ]
  },
  {
   "cell_type": "markdown",
   "id": "8542cfc4-9853-4910-9ee0-a255fd32e5a3",
   "metadata": {},
   "source": [
    "### 處理用戶查詢3\n",
    "CPU 時間：使用者 19.3 秒，系統：690 毫秒，總計：20 秒\n",
    "掛起時間：20 秒"
   ]
  },
  {
   "cell_type": "code",
   "execution_count": null,
   "id": "8c94063d-035c-4c01-b0d5-693a3c7faf9f",
   "metadata": {
    "tags": []
   },
   "outputs": [],
   "source": [
    "%%time\n",
    "query = \"What is Acupuncture?\"\n",
    "response = qa_with_sources_chain({\"query\":query})\n",
    "print(f\"Response generated : \\n {response['result']}\")\n",
    "print(f\"Source Documents : \\n {response['source_documents']}\")\n",
    "print(f\"Number of of Documents returned : {len(response['source_documents'])}\")\n"
   ]
  },
  {
   "cell_type": "markdown",
   "id": "5c5a0c6c-2a5e-45a4-babe-f84d41737f13",
   "metadata": {},
   "source": [
    "### 處理用戶查詢4\n",
    "CPU 時間：使用者 19.3 秒，系統：690 毫秒，總計：20 秒\n",
    "掛起時間：20 秒"
   ]
  },
  {
   "cell_type": "code",
   "execution_count": null,
   "id": "0f960f35-4e48-4018-aac3-59e258c9b330",
   "metadata": {
    "tags": []
   },
   "outputs": [],
   "source": [
    "%%time\n",
    "query = \"What is Acupuncture?\"\n",
    "response = qa_with_sources_chain({\"query\":query})\n",
    "print(f\"Response generated : \\n {response['result']}\")\n",
    "print(f\"Source Documents : \\n {response['source_documents']}\")\n",
    "print(f\"Number of Documents returned : {len(response['source_documents'])}\")\n"
   ]
  },
  {
   "cell_type": "markdown",
   "id": "800371c7-6a72-4c52-b41c-157f12768d46",
   "metadata": {},
   "source": [
    "## Setup Retrieval chain — with Hybrid Search\n"
   ]
  },
  {
   "cell_type": "code",
   "execution_count": null,
   "id": "43994887-1875-450d-ba3f-602b2f0dfa7e",
   "metadata": {
    "tags": []
   },
   "outputs": [],
   "source": [
    "#\n",
    "handler = StdOutCallbackHandler()\n",
    "#\n",
    "qa_with_sources_chain = RetrievalQA.from_chain_type(\n",
    "    llm=llm,\n",
    "    chain_type=\"stuff\",\n",
    "    retriever = ensemble_retriever,\n",
    "    callbacks=[handler],\n",
    "    chain_type_kwargs={\"prompt\": custom_prompt},\n",
    "    return_source_documents=True\n",
    ")"
   ]
  },
  {
   "cell_type": "markdown",
   "id": "fab7d947-11cb-47b0-b039-28bd2012df62",
   "metadata": {},
   "source": [
    "### 處理用戶查詢1\n",
    "CPU 時間：使用者 6.7 秒，系統：267 毫秒，總計：6.97 秒\n",
    "運行時間：6.94 秒"
   ]
  },
  {
   "cell_type": "code",
   "execution_count": null,
   "id": "4e27c984-153d-47d2-a557-e0244ec89f8c",
   "metadata": {
    "tags": []
   },
   "outputs": [],
   "source": [
    "%%time\n",
    "query = \"What is Acupuncture?\"\n",
    "response = qa_with_sources_chain({\"query\":query})\n",
    "print(f\"Response generated : \\n {response['result']}\")\n",
    "print(f\"Source Documents : \\n {response['source_documents']}\")\n"
   ]
  },
  {
   "cell_type": "markdown",
   "id": "6271191f-f27a-4a5b-a7ce-a15cd60f1b0a",
   "metadata": {},
   "source": [
    "### 處理用戶查詢2\n",
    "CPU 時間：使用者 6.7 秒，系統：267 毫秒，總計：6.97 秒\n",
    "運行時間：6.94 秒"
   ]
  },
  {
   "cell_type": "code",
   "execution_count": null,
   "id": "4e36ff4c-b7d3-4b4e-977a-fabb6ca957a9",
   "metadata": {
    "tags": []
   },
   "outputs": [],
   "source": [
    "%%time\n",
    "query = \"What is Acupuncture?\"\n",
    "response = qa_with_sources_chain({\"query\":query})\n",
    "print(f\"Response generated : \\n {response['result']}\")\n",
    "print(f\"Source Documents : \\n {response['source_documents']}\")\n"
   ]
  },
  {
   "cell_type": "markdown",
   "id": "8b47a7de-a685-4253-b166-bd20e126657e",
   "metadata": {},
   "source": [
    "### 處理用戶查詢3\n",
    "CPU 時間：使用者 6.7 秒，系統：267 毫秒，總計：6.97 秒\n",
    "運行時間：6.94 秒"
   ]
  },
  {
   "cell_type": "code",
   "execution_count": null,
   "id": "4efc50a6-823f-4ee8-817c-6f97c2e90820",
   "metadata": {
    "tags": []
   },
   "outputs": [],
   "source": [
    "%%time\n",
    "query = \"What is Acupuncture?\"\n",
    "response = qa_with_sources_chain({\"query\":query})\n",
    "print(f\"Response generated : \\n {response['result']}\")\n",
    "print(f\"Source Documents : \\n {response['source_documents']}\")\n",
    "print(f\"Number of of Documents returned : {len(response['source_documents'])}\")\n"
   ]
  },
  {
   "cell_type": "markdown",
   "id": "9da85c34-9c41-4b4d-a2a6-ed54a29b5dc8",
   "metadata": {},
   "source": [
    "### 處理用戶查詢4\n",
    "CPU 時間：使用者 6.7 秒，系統：267 毫秒，總計：6.97 秒\n",
    "運行時間：6.94 秒"
   ]
  },
  {
   "cell_type": "code",
   "execution_count": null,
   "id": "e8558970-e54f-483f-ae75-2685f1a31c23",
   "metadata": {
    "tags": []
   },
   "outputs": [],
   "source": [
    "%%time\n",
    "query = \"What is Acupuncture?\"\n",
    "response = qa_with_sources_chain({\"query\":query})\n",
    "print(f\"Response generated : \\n {response['result']}\")\n",
    "print(f\"Source Documents : \\n {response['source_documents']}\")\n"
   ]
  },
  {
   "cell_type": "markdown",
   "id": "5ebd8cb4-6781-46ce-b0df-416b32ebe740",
   "metadata": {},
   "source": [
    "### 處理用戶查詢5\n",
    "CPU 時間：使用者 6.7 秒，系統：267 毫秒，總計：6.97 秒\n",
    "運行時間：6.94 秒"
   ]
  },
  {
   "cell_type": "code",
   "execution_count": null,
   "id": "39cffd4e-eab9-4dc1-b419-83495193b04a",
   "metadata": {
    "tags": []
   },
   "outputs": [],
   "source": [
    "%%time\n",
    "query =\"What is the document about?\"\n",
    "response = qa_with_sources_chain({\"query\":query})\n",
    "print(f\"Response generated : \\n {response['result']}\")\n",
    "print(f\"Source Documents : \\n {response['source_documents']}\")\n"
   ]
  },
  {
   "cell_type": "markdown",
   "id": "df8d45a2-92c8-49de-abf8-2a411eedc0f3",
   "metadata": {},
   "source": [
    "### 處理用戶查詢6\n",
    "CPU 時間：使用者 6.7 秒，系統：267 毫秒，總計：6.97 秒\n",
    "運行時間：6.94 秒"
   ]
  },
  {
   "cell_type": "code",
   "execution_count": null,
   "id": "90175958-2313-4b45-b468-7aa8fcb7d089",
   "metadata": {
    "tags": []
   },
   "outputs": [],
   "source": [
    "%%time\n",
    "query =\"tell me about this document?\"\n",
    "response = qa_with_sources_chain({\"query\":query})\n",
    "print(f\"Response generated : \\n {response['result']}\")\n",
    "print(f\"Source Documents : \\n {response['source_documents']}\")\n",
    "print(f\"Number of Documents returned : {len(response['source_documents'])}\")\n"
   ]
  },
  {
   "cell_type": "markdown",
   "id": "e5b3e890-5ecd-49d0-976a-8fb522c3407a",
   "metadata": {},
   "source": [
    "### 結論：\n",
    "我們可以看到，使用 EnsembleRetriver 的混合搜尋為生成式 AI 模型提供了更好的上下文，從而可以製定更好的回應。快取回應和查詢還可以減少推理時間並降低計算成本。快取查詢嵌入還有助於避免重新計算它們。"
   ]
  },
  {
   "cell_type": "code",
   "execution_count": null,
   "id": "012ce77c-c517-4545-b1f7-1bba821c7c97",
   "metadata": {},
   "outputs": [],
   "source": []
  }
 ],
 "metadata": {
  "kernelspec": {
   "display_name": "Image_pytorch_2.1.0-cuda11.8-cudnn8-devel",
   "language": "python",
   "name": "pytorch_2.1.0-cuda11.8-cudnn8-devel"
  },
  "language_info": {
   "codemirror_mode": {
    "name": "ipython",
    "version": 3
   },
   "file_extension": ".py",
   "mimetype": "text/x-python",
   "name": "python",
   "nbconvert_exporter": "python",
   "pygments_lexer": "ipython3",
   "version": "3.10.13"
  }
 },
 "nbformat": 4,
 "nbformat_minor": 5
}
